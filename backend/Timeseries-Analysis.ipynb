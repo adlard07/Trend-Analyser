{
 "cells": [
  {
   "cell_type": "code",
   "execution_count": 2,
   "metadata": {},
   "outputs": [],
   "source": [
    "import pandas as pd"
   ]
  },
  {
   "cell_type": "code",
   "execution_count": 3,
   "metadata": {},
   "outputs": [
    {
     "data": {
      "text/html": [
       "<div>\n",
       "<style scoped>\n",
       "    .dataframe tbody tr th:only-of-type {\n",
       "        vertical-align: middle;\n",
       "    }\n",
       "\n",
       "    .dataframe tbody tr th {\n",
       "        vertical-align: top;\n",
       "    }\n",
       "\n",
       "    .dataframe thead th {\n",
       "        text-align: right;\n",
       "    }\n",
       "</style>\n",
       "<table border=\"1\" class=\"dataframe\">\n",
       "  <thead>\n",
       "    <tr style=\"text-align: right;\">\n",
       "      <th>2</th>\n",
       "      <th>Year</th>\n",
       "      <th>Month</th>\n",
       "      <th>Day</th>\n",
       "      <th>Average Temperature</th>\n",
       "      <th>Maximum temperature</th>\n",
       "      <th>Minimum temperature</th>\n",
       "      <th>Average atmospheric pressure at sea level</th>\n",
       "      <th>Average atmospheric pressure at the station level</th>\n",
       "      <th>Average relative humidity</th>\n",
       "      <th>Total rainfall and / or snowmelt</th>\n",
       "      <th>Average visibility</th>\n",
       "      <th>Average wind speed</th>\n",
       "      <th>Maximum sustained wind speed</th>\n",
       "      <th>Maximum speed of wind</th>\n",
       "      <th>Indicator for occurrence of: Fog</th>\n",
       "      <th>Indicator for occurrence of: Rain or Drizzle</th>\n",
       "      <th>Indicator for occurrence of: Snow or Ice Pellets</th>\n",
       "      <th>Indicator for occurrence of: Hail</th>\n",
       "      <th>Indicator for occurrence of: Thunder</th>\n",
       "      <th>Indicator for occurrence of: Tornado / Funnel cloud</th>\n",
       "    </tr>\n",
       "  </thead>\n",
       "  <tbody>\n",
       "    <tr>\n",
       "      <th>1821</th>\n",
       "      <td>1995</td>\n",
       "      <td>12</td>\n",
       "      <td>27</td>\n",
       "      <td>9.7</td>\n",
       "      <td>11.0</td>\n",
       "      <td>6.5</td>\n",
       "      <td>1008.8</td>\n",
       "      <td>941.1</td>\n",
       "      <td>87</td>\n",
       "      <td>6.1</td>\n",
       "      <td>10.1</td>\n",
       "      <td>11.7</td>\n",
       "      <td>22.2</td>\n",
       "      <td>33.5</td>\n",
       "      <td>0</td>\n",
       "      <td>1</td>\n",
       "      <td>0</td>\n",
       "      <td>0</td>\n",
       "      <td>0</td>\n",
       "      <td>0</td>\n",
       "    </tr>\n",
       "    <tr>\n",
       "      <th>1822</th>\n",
       "      <td>1995</td>\n",
       "      <td>12</td>\n",
       "      <td>28</td>\n",
       "      <td>11.3</td>\n",
       "      <td>14.0</td>\n",
       "      <td>8.0</td>\n",
       "      <td>1012.8</td>\n",
       "      <td>945</td>\n",
       "      <td>78</td>\n",
       "      <td>0</td>\n",
       "      <td>12.4</td>\n",
       "      <td>14.6</td>\n",
       "      <td>22.2</td>\n",
       "      <td>40.7</td>\n",
       "      <td>0</td>\n",
       "      <td>1</td>\n",
       "      <td>0</td>\n",
       "      <td>0</td>\n",
       "      <td>0</td>\n",
       "      <td>0</td>\n",
       "    </tr>\n",
       "    <tr>\n",
       "      <th>1823</th>\n",
       "      <td>1995</td>\n",
       "      <td>12</td>\n",
       "      <td>29</td>\n",
       "      <td>9.0</td>\n",
       "      <td>10.2</td>\n",
       "      <td>7.6</td>\n",
       "      <td>1011.6</td>\n",
       "      <td>943.1</td>\n",
       "      <td>95</td>\n",
       "      <td>7.87</td>\n",
       "      <td>6.9</td>\n",
       "      <td>8.5</td>\n",
       "      <td>16.5</td>\n",
       "      <td>-</td>\n",
       "      <td>0</td>\n",
       "      <td>1</td>\n",
       "      <td>0</td>\n",
       "      <td>0</td>\n",
       "      <td>0</td>\n",
       "      <td>0</td>\n",
       "    </tr>\n",
       "    <tr>\n",
       "      <th>1824</th>\n",
       "      <td>1995</td>\n",
       "      <td>12</td>\n",
       "      <td>30</td>\n",
       "      <td>11.5</td>\n",
       "      <td>14.0</td>\n",
       "      <td>8.8</td>\n",
       "      <td>1001.6</td>\n",
       "      <td>935.1</td>\n",
       "      <td>91</td>\n",
       "      <td>21.08</td>\n",
       "      <td>10.3</td>\n",
       "      <td>17.8</td>\n",
       "      <td>29.4</td>\n",
       "      <td>53.5</td>\n",
       "      <td>0</td>\n",
       "      <td>1</td>\n",
       "      <td>0</td>\n",
       "      <td>0</td>\n",
       "      <td>0</td>\n",
       "      <td>0</td>\n",
       "    </tr>\n",
       "    <tr>\n",
       "      <th>1825</th>\n",
       "      <td>1995</td>\n",
       "      <td>12</td>\n",
       "      <td>31</td>\n",
       "      <td>11.3</td>\n",
       "      <td>14.0</td>\n",
       "      <td>8.0</td>\n",
       "      <td>1004.8</td>\n",
       "      <td>937.7</td>\n",
       "      <td>79</td>\n",
       "      <td>1.02</td>\n",
       "      <td>12.4</td>\n",
       "      <td>19.8</td>\n",
       "      <td>37</td>\n",
       "      <td>51.9</td>\n",
       "      <td>0</td>\n",
       "      <td>1</td>\n",
       "      <td>0</td>\n",
       "      <td>0</td>\n",
       "      <td>0</td>\n",
       "      <td>0</td>\n",
       "    </tr>\n",
       "  </tbody>\n",
       "</table>\n",
       "</div>"
      ],
      "text/plain": [
       "2     Year  Month  Day  Average Temperature  Maximum temperature   \n",
       "1821  1995     12   27                  9.7                 11.0  \\\n",
       "1822  1995     12   28                 11.3                 14.0   \n",
       "1823  1995     12   29                  9.0                 10.2   \n",
       "1824  1995     12   30                 11.5                 14.0   \n",
       "1825  1995     12   31                 11.3                 14.0   \n",
       "\n",
       "2     Minimum temperature Average atmospheric pressure at sea level   \n",
       "1821                  6.5                                    1008.8  \\\n",
       "1822                  8.0                                    1012.8   \n",
       "1823                  7.6                                    1011.6   \n",
       "1824                  8.8                                    1001.6   \n",
       "1825                  8.0                                    1004.8   \n",
       "\n",
       "2    Average atmospheric pressure at the station level   \n",
       "1821                                             941.1  \\\n",
       "1822                                               945   \n",
       "1823                                             943.1   \n",
       "1824                                             935.1   \n",
       "1825                                             937.7   \n",
       "\n",
       "2    Average relative humidity Total rainfall and / or snowmelt   \n",
       "1821                        87                              6.1  \\\n",
       "1822                        78                                0   \n",
       "1823                        95                             7.87   \n",
       "1824                        91                            21.08   \n",
       "1825                        79                             1.02   \n",
       "\n",
       "2     Average visibility  Average wind speed Maximum sustained wind speed   \n",
       "1821                10.1                11.7                         22.2  \\\n",
       "1822                12.4                14.6                         22.2   \n",
       "1823                 6.9                 8.5                         16.5   \n",
       "1824                10.3                17.8                         29.4   \n",
       "1825                12.4                19.8                           37   \n",
       "\n",
       "2    Maximum speed of wind  Indicator for occurrence of: Fog   \n",
       "1821                  33.5                                 0  \\\n",
       "1822                  40.7                                 0   \n",
       "1823                     -                                 0   \n",
       "1824                  53.5                                 0   \n",
       "1825                  51.9                                 0   \n",
       "\n",
       "2     Indicator for occurrence of: Rain or Drizzle   \n",
       "1821                                             1  \\\n",
       "1822                                             1   \n",
       "1823                                             1   \n",
       "1824                                             1   \n",
       "1825                                             1   \n",
       "\n",
       "2     Indicator for occurrence of: Snow or Ice Pellets   \n",
       "1821                                                 0  \\\n",
       "1822                                                 0   \n",
       "1823                                                 0   \n",
       "1824                                                 0   \n",
       "1825                                                 0   \n",
       "\n",
       "2     Indicator for occurrence of: Hail  Indicator for occurrence of: Thunder   \n",
       "1821                                  0                                     0  \\\n",
       "1822                                  0                                     0   \n",
       "1823                                  0                                     0   \n",
       "1824                                  0                                     0   \n",
       "1825                                  0                                     0   \n",
       "\n",
       "2     Indicator for occurrence of: Tornado / Funnel cloud  \n",
       "1821                                                  0    \n",
       "1822                                                  0    \n",
       "1823                                                  0    \n",
       "1824                                                  0    \n",
       "1825                                                  0    "
      ]
     },
     "execution_count": 3,
     "metadata": {},
     "output_type": "execute_result"
    }
   ],
   "source": [
    "xls = pd.ExcelFile('data/Global Warming.xlsx')\n",
    "global_warming = pd.read_excel(xls, 'data')\n",
    "help = pd.read_excel(xls, 'help', header=None)\n",
    "# data.dtypes['Date'] = pd.to_datetime(data['Date'])\n",
    "global_warming.columns = help[2]\n",
    "global_warming.tail()"
   ]
  },
  {
   "cell_type": "code",
   "execution_count": 4,
   "metadata": {},
   "outputs": [
    {
     "data": {
      "text/plain": [
       "2\n",
       "Year                                                     int64\n",
       "Month                                                    int64\n",
       "Day                                                      int64\n",
       "Average Temperature                                    float64\n",
       "Maximum temperature                                    float64\n",
       "Minimum temperature                                    float64\n",
       "Average atmospheric pressure at sea level               object\n",
       "Average atmospheric pressure at the station level       object\n",
       "Average relative humidity                               object\n",
       "Total rainfall and / or snowmelt                        object\n",
       "Average visibility                                     float64\n",
       "Average wind speed                                     float64\n",
       "Maximum sustained wind speed                            object\n",
       "Maximum speed of wind                                   object\n",
       "Indicator for occurrence of: Fog                         int64\n",
       "Indicator for occurrence of: Rain or Drizzle             int64\n",
       "Indicator for occurrence of: Snow or Ice Pellets         int64\n",
       "Indicator for occurrence of: Hail                        int64\n",
       "Indicator for occurrence of: Thunder                     int64\n",
       "Indicator for occurrence of: Tornado / Funnel cloud      int64\n",
       "dtype: object"
      ]
     },
     "execution_count": 4,
     "metadata": {},
     "output_type": "execute_result"
    }
   ],
   "source": [
    "global_warming.dtypes"
   ]
  },
  {
   "cell_type": "code",
   "execution_count": 5,
   "metadata": {},
   "outputs": [
    {
     "data": {
      "text/html": [
       "<div>\n",
       "<style scoped>\n",
       "    .dataframe tbody tr th:only-of-type {\n",
       "        vertical-align: middle;\n",
       "    }\n",
       "\n",
       "    .dataframe tbody tr th {\n",
       "        vertical-align: top;\n",
       "    }\n",
       "\n",
       "    .dataframe thead th {\n",
       "        text-align: right;\n",
       "    }\n",
       "</style>\n",
       "<table border=\"1\" class=\"dataframe\">\n",
       "  <thead>\n",
       "    <tr style=\"text-align: right;\">\n",
       "      <th></th>\n",
       "      <th>Average Temperature</th>\n",
       "      <th>Maximum temperature</th>\n",
       "      <th>Minimum temperature</th>\n",
       "      <th>Average visibility</th>\n",
       "      <th>Average wind speed</th>\n",
       "      <th>Indicator for occurrence of: Fog</th>\n",
       "      <th>Indicator for occurrence of: Rain or Drizzle</th>\n",
       "      <th>Indicator for occurrence of: Snow or Ice Pellets</th>\n",
       "      <th>Indicator for occurrence of: Hail</th>\n",
       "      <th>Indicator for occurrence of: Thunder</th>\n",
       "      <th>Indicator for occurrence of: Tornado / Funnel cloud</th>\n",
       "    </tr>\n",
       "  </thead>\n",
       "  <tbody>\n",
       "    <tr>\n",
       "      <th>0</th>\n",
       "      <td>5.3</td>\n",
       "      <td>9.6</td>\n",
       "      <td>0.0</td>\n",
       "      <td>3.4</td>\n",
       "      <td>2.4</td>\n",
       "      <td>1</td>\n",
       "      <td>0</td>\n",
       "      <td>0</td>\n",
       "      <td>0</td>\n",
       "      <td>0</td>\n",
       "      <td>0</td>\n",
       "    </tr>\n",
       "    <tr>\n",
       "      <th>1</th>\n",
       "      <td>2.6</td>\n",
       "      <td>6.4</td>\n",
       "      <td>0.0</td>\n",
       "      <td>3.7</td>\n",
       "      <td>4.1</td>\n",
       "      <td>1</td>\n",
       "      <td>0</td>\n",
       "      <td>0</td>\n",
       "      <td>0</td>\n",
       "      <td>0</td>\n",
       "      <td>0</td>\n",
       "    </tr>\n",
       "    <tr>\n",
       "      <th>2</th>\n",
       "      <td>2.3</td>\n",
       "      <td>5.2</td>\n",
       "      <td>-1.0</td>\n",
       "      <td>2.6</td>\n",
       "      <td>2.0</td>\n",
       "      <td>1</td>\n",
       "      <td>0</td>\n",
       "      <td>0</td>\n",
       "      <td>0</td>\n",
       "      <td>0</td>\n",
       "      <td>0</td>\n",
       "    </tr>\n",
       "    <tr>\n",
       "      <th>3</th>\n",
       "      <td>3.9</td>\n",
       "      <td>10.0</td>\n",
       "      <td>0.0</td>\n",
       "      <td>8.0</td>\n",
       "      <td>4.4</td>\n",
       "      <td>1</td>\n",
       "      <td>0</td>\n",
       "      <td>0</td>\n",
       "      <td>0</td>\n",
       "      <td>0</td>\n",
       "      <td>0</td>\n",
       "    </tr>\n",
       "    <tr>\n",
       "      <th>4</th>\n",
       "      <td>2.9</td>\n",
       "      <td>10.4</td>\n",
       "      <td>-3.0</td>\n",
       "      <td>10.5</td>\n",
       "      <td>5.2</td>\n",
       "      <td>0</td>\n",
       "      <td>0</td>\n",
       "      <td>0</td>\n",
       "      <td>0</td>\n",
       "      <td>0</td>\n",
       "      <td>0</td>\n",
       "    </tr>\n",
       "  </tbody>\n",
       "</table>\n",
       "</div>"
      ],
      "text/plain": [
       "   Average Temperature  Maximum temperature  Minimum temperature   \n",
       "0                  5.3                  9.6                  0.0  \\\n",
       "1                  2.6                  6.4                  0.0   \n",
       "2                  2.3                  5.2                 -1.0   \n",
       "3                  3.9                 10.0                  0.0   \n",
       "4                  2.9                 10.4                 -3.0   \n",
       "\n",
       "   Average visibility  Average wind speed  Indicator for occurrence of: Fog   \n",
       "0                 3.4                 2.4                                 1  \\\n",
       "1                 3.7                 4.1                                 1   \n",
       "2                 2.6                 2.0                                 1   \n",
       "3                 8.0                 4.4                                 1   \n",
       "4                10.5                 5.2                                 0   \n",
       "\n",
       "   Indicator for occurrence of: Rain or Drizzle   \n",
       "0                                             0  \\\n",
       "1                                             0   \n",
       "2                                             0   \n",
       "3                                             0   \n",
       "4                                             0   \n",
       "\n",
       "   Indicator for occurrence of: Snow or Ice Pellets   \n",
       "0                                                 0  \\\n",
       "1                                                 0   \n",
       "2                                                 0   \n",
       "3                                                 0   \n",
       "4                                                 0   \n",
       "\n",
       "   Indicator for occurrence of: Hail  Indicator for occurrence of: Thunder   \n",
       "0                                  0                                     0  \\\n",
       "1                                  0                                     0   \n",
       "2                                  0                                     0   \n",
       "3                                  0                                     0   \n",
       "4                                  0                                     0   \n",
       "\n",
       "   Indicator for occurrence of: Tornado / Funnel cloud  \n",
       "0                                                  0    \n",
       "1                                                  0    \n",
       "2                                                  0    \n",
       "3                                                  0    \n",
       "4                                                  0    "
      ]
     },
     "execution_count": 5,
     "metadata": {},
     "output_type": "execute_result"
    }
   ],
   "source": [
    "data = pd.DataFrame()\n",
    "for metric in global_warming.columns[3:]:\n",
    "    if global_warming[metric].dtypes == 'float64' or global_warming[metric].dtypes == 'int64':\n",
    "        data[metric] = global_warming[metric]\n",
    "data.head()"
   ]
  },
  {
   "cell_type": "code",
   "execution_count": 6,
   "metadata": {},
   "outputs": [
    {
     "data": {
      "text/plain": [
       "Average Temperature                                    0\n",
       "Maximum temperature                                    0\n",
       "Minimum temperature                                    0\n",
       "Average visibility                                     0\n",
       "Average wind speed                                     0\n",
       "Indicator for occurrence of: Fog                       0\n",
       "Indicator for occurrence of: Rain or Drizzle           0\n",
       "Indicator for occurrence of: Snow or Ice Pellets       0\n",
       "Indicator for occurrence of: Hail                      0\n",
       "Indicator for occurrence of: Thunder                   0\n",
       "Indicator for occurrence of: Tornado / Funnel cloud    0\n",
       "dtype: int64"
      ]
     },
     "execution_count": 6,
     "metadata": {},
     "output_type": "execute_result"
    }
   ],
   "source": [
    "data.isnull().sum()"
   ]
  },
  {
   "cell_type": "markdown",
   "metadata": {},
   "source": [
    "Missing data"
   ]
  },
  {
   "cell_type": "code",
   "execution_count": 7,
   "metadata": {},
   "outputs": [],
   "source": [
    "import statistics\n",
    "\n",
    "def handle_missing(data, col_name):\n",
    "    \"\"\"Handle missing values in a column.\"\"\"\n",
    "    new_col = []\n",
    "    for i in data[col_name]:\n",
    "        if pd.isnull(i) == True:\n",
    "            # range of 10 elements, 5 before 5 after  \n",
    "            i = statistics.mean(data[col_name][data[col_name].index(i)-5 : data[col_name].index(i)+5])\n",
    "        new_col.append(i)\n",
    "    data[col_name] = new_col"
   ]
  },
  {
   "cell_type": "markdown",
   "metadata": {},
   "source": [
    "Outliers"
   ]
  },
  {
   "cell_type": "code",
   "execution_count": 8,
   "metadata": {},
   "outputs": [],
   "source": [
    "from sklearn.preprocessing import MinMaxScaler\n",
    "from sklearn.preprocessing import StandardScaler\n",
    "\n",
    "min_max_transformed = MinMaxScaler().fit_transform(data)\n",
    "standard_transformed = StandardScaler().fit_transform(data)"
   ]
  },
  {
   "cell_type": "markdown",
   "metadata": {},
   "source": [
    "Line Plot"
   ]
  },
  {
   "cell_type": "code",
   "execution_count": 9,
   "metadata": {},
   "outputs": [
    {
     "data": {
      "text/plain": [
       "([13.735342465753437,\n",
       "  13.769125683060116,\n",
       "  13.619178082191784,\n",
       "  15.23205479452056,\n",
       "  15.87643835616438],\n",
       " {1991, 1992, 1993, 1994, 1995})"
      ]
     },
     "execution_count": 9,
     "metadata": {},
     "output_type": "execute_result"
    }
   ],
   "source": [
    "years = set(global_warming['Year'])\n",
    "avg_temp_per_year = []\n",
    "for year in years:\n",
    "    avg_temp = sum(global_warming[global_warming['Year']==year]['Average Temperature'])/len(global_warming[global_warming['Year']==year]['Average Temperature'])\n",
    "    avg_temp_per_year.append(avg_temp)\n",
    "avg_temp_per_year, years"
   ]
  },
  {
   "cell_type": "code",
   "execution_count": 10,
   "metadata": {},
   "outputs": [
    {
     "data": {
      "image/png": "[encoded data removed]",
      "text/plain": [
       "<Figure size 640x480 with 1 Axes>"
      ]
     },
     "metadata": {},
     "output_type": "display_data"
    }
   ],
   "source": [
    "import matplotlib.pyplot as plt\n",
    "\n",
    "plt.plot(avg_temp_per_year, color='r')\n",
    "plt.show()"
   ]
  },
  {
   "cell_type": "markdown",
   "metadata": {},
   "source": [
    "Corelation"
   ]
  },
  {
   "cell_type": "code",
   "execution_count": 11,
   "metadata": {},
   "outputs": [
    {
     "name": "stdout",
     "output_type": "stream",
     "text": [
      "0.8400868\n"
     ]
    }
   ],
   "source": [
    "# Pearson Corelation\n",
    "import numpy as np\n",
    "\n",
    "def pearson_corelation(X, Y):\n",
    "    '''\n",
    "    Used for linear samples\n",
    "    '''\n",
    "    x_mean = sum(X)/len(X)\n",
    "    y_mean = sum(Y)/len(Y)\n",
    "    xy, x_sq, y_sq = [], [], []\n",
    "    for x, y in zip(X, Y):\n",
    "        x_diff = x - x_mean\n",
    "        y_diff = y-y_mean \n",
    "        \n",
    "        xy.append(x_diff * y_diff)\n",
    "        x_sq.append(x_diff**2)\n",
    "        y_sq.append(y_diff**2)\n",
    "        \n",
    "    xy_sum = sum(xy)\n",
    "    xy_sq_r_sum = np.sqrt(sum(x_sq)) * np.sqrt(sum(y_sq))\n",
    "    \n",
    "    return xy_sum/xy_sq_r_sum\n",
    "\n",
    "def spearmans_corelation(X, Y):\n",
    "    '''\n",
    "    Used for non-linear samples\n",
    "    '''\n",
    "    x_ranked = sorted(X)\n",
    "    y_ranked = sorted(Y)\n",
    "    \n",
    "    di = []\n",
    "    for xi, yi in zip(x_ranked, y_ranked):\n",
    "        di.append((xi - yi)**2)\n",
    "        \n",
    "    numerator = sum(di) * 6\n",
    "    denominator = len(X) * (len(X)**2 -1)\n",
    "    return numerator/denominator\n",
    "\n",
    "\n",
    "print(round(pearson_corelation(data['Maximum temperature'], data['Minimum temperature']), 7))"
   ]
  },
  {
   "cell_type": "code",
   "execution_count": 12,
   "metadata": {},
   "outputs": [
    {
     "name": "stderr",
     "output_type": "stream",
     "text": [
      "C:\\Users\\HomePC\\AppData\\Local\\Temp\\ipykernel_1964\\3830959765.py:22: RuntimeWarning: invalid value encountered in double_scalars\n",
      "  return xy_sum/xy_sq_r_sum\n"
     ]
    },
    {
     "name": "stdout",
     "output_type": "stream",
     "text": [
      "[1.0, 0.9660734, 0.9396874, 0.3972182, 0.1092575, -0.2634049, -0.1219585, -0.0766857, -0.0189085, 0.2078279]\n",
      "[0.9660734, 1.0, 0.8400868, 0.4017209, -0.0037542, -0.2788578, -0.2232414, -0.0888602, -0.0218093, 0.2044442]\n",
      "[0.9396874, 0.8400868, 1.0, 0.3214034, 0.2301105, -0.2135929, 0.0531184, -0.0615027, -0.0103454, 0.2478719]\n",
      "[0.3972182, 0.4017209, 0.3214034, 1.0, 0.3187342, -0.6322756, -0.1176154, -0.0541993, 0.0130122, 0.0299418]\n",
      "[0.1092575, -0.0037542, 0.2301105, 0.3187342, 1.0, -0.2080432, 0.2174242, 0.0158861, 0.0640355, 0.0213077]\n",
      "[-0.2634049, -0.2788578, -0.2135929, -0.6322756, -0.2080432, 1.0, -0.0223582, 0.0178266, 0.0098136, -0.0634722]\n",
      "[-0.1219585, -0.2232414, 0.0531184, -0.1176154, 0.2174242, -0.0223582, 1.0, 0.0999818, 0.1402706, 0.3341319]\n",
      "[-0.0766857, -0.0888602, -0.0615027, -0.0541993, 0.0158861, 0.0178266, 0.0999818, 1.0, 0.2091516, 0.0187543]\n",
      "[-0.0189085, -0.0218093, -0.0103454, 0.0130122, 0.0640355, 0.0098136, 0.1402706, 0.2091516, 1.0, 0.0709749]\n",
      "[0.2078279, 0.2044442, 0.2478719, 0.0299418, 0.0213077, -0.0634722, 0.3341319, 0.0187543, 0.0709749, 1.0]\n"
     ]
    }
   ],
   "source": [
    "# computing corelation coefficients\n",
    "corelation = []\n",
    "for i in data:\n",
    "    row = []\n",
    "    for j in data:\n",
    "        # if data[i].dtypes == \"float64\" and data[j].dtypes == \"float64\":\n",
    "            row.append(round(pearson_corelation(data[i], data[j]), 7))\n",
    "    corelation.append(row)\n",
    "\n",
    "corelation = corelation[:-1]\n",
    "final_corelation = []\n",
    "for corr in corelation:\n",
    "    final_corelation.append(corr[:-1])\n",
    "    print(corr[:-1])"
   ]
  },
  {
   "cell_type": "markdown",
   "metadata": {},
   "source": [
    "Heatmap"
   ]
  },
  {
   "cell_type": "code",
   "execution_count": 13,
   "metadata": {},
   "outputs": [
    {
     "data": {
      "image/png": "[encoded data removed]",
      "text/plain": [
       "<Figure size 640x480 with 2 Axes>"
      ]
     },
     "metadata": {},
     "output_type": "display_data"
    }
   ],
   "source": [
    "import seaborn as sns\n",
    "\n",
    "# labels=['Open', 'High', 'Low', 'Close', 'Volume']\n",
    "hm = sns.heatmap(final_corelation)\n",
    "plt.show()"
   ]
  },
  {
   "cell_type": "code",
   "execution_count": null,
   "metadata": {},
   "outputs": [],
   "source": []
  }
 ],
 "metadata": {
  "kernelspec": {
   "display_name": "Python 3",
   "language": "python",
   "name": "python3"
  },
  "language_info": {
   "codemirror_mode": {
    "name": "ipython",
    "version": 3
   },
   "file_extension": ".py",
   "mimetype": "text/x-python",
   "name": "python",
   "nbconvert_exporter": "python",
   "pygments_lexer": "ipython3",
   "version": "3.11.5"
  }
 },
 "nbformat": 4,
 "nbformat_minor": 2
}
